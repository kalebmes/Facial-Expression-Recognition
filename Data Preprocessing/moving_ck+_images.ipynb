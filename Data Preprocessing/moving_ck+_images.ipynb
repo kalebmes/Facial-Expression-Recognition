{
  "nbformat": 4,
  "nbformat_minor": 0,
  "metadata": {
    "colab": {
      "name": "moving ck+ images.ipynb",
      "provenance": [],
      "include_colab_link": true
    },
    "kernelspec": {
      "name": "python3",
      "display_name": "Python 3"
    },
    "language_info": {
      "name": "python"
    }
  },
  "cells": [
    {
      "cell_type": "markdown",
      "metadata": {
        "id": "view-in-github",
        "colab_type": "text"
      },
      "source": [
        "<a href=\"https://colab.research.google.com/github/kalebmes/Facial-Expression-Recognition/blob/main/Data%20Preprocessing/moving_ck%2B_images.ipynb\" target=\"_parent\"><img src=\"https://colab.research.google.com/assets/colab-badge.svg\" alt=\"Open In Colab\"/></a>"
      ]
    },
    {
      "cell_type": "code",
      "execution_count": 6,
      "metadata": {
        "id": "MP7qpXmBEB2y",
        "colab": {
          "base_uri": "https://localhost:8080/"
        },
        "outputId": "8d250e85-2f20-4b4d-e5ed-b7b8d34f2cc4"
      },
      "outputs": [
        {
          "output_type": "stream",
          "name": "stdout",
          "text": [
            "Drive already mounted at /content/drive; to attempt to forcibly remount, call drive.mount(\"/content/drive\", force_remount=True).\n"
          ]
        }
      ],
      "source": [
        "#mount your drive first - you can do it once\n",
        "from google.colab import drive\n",
        "drive.mount('/content/drive')"
      ]
    },
    {
      "cell_type": "code",
      "source": [
        "#importing necessary modules\n",
        "import os\n",
        "import shutil"
      ],
      "metadata": {
        "id": "EsIzJKiwEHFO"
      },
      "execution_count": 7,
      "outputs": []
    },
    {
      "cell_type": "code",
      "source": [
        "#let's read the main csv file from our drive\n",
        "data_path = \"/content/drive/MyDrive/fer2013\"\n",
        "ckp_path = os.path.join(data_path, 'CK+48')"
      ],
      "metadata": {
        "id": "9cbrNiHyELrl",
        "colab": {
          "base_uri": "https://localhost:8080/",
          "height": 35
        },
        "outputId": "69986a5e-c5a0-4fb8-db48-9170a4333ac7"
      },
      "execution_count": 13,
      "outputs": [
        {
          "output_type": "execute_result",
          "data": {
            "text/plain": [
              "'/content/drive/MyDrive/fer2013/CK+48'"
            ],
            "application/vnd.google.colaboratory.intrinsic+json": {
              "type": "string"
            }
          },
          "metadata": {},
          "execution_count": 13
        }
      ]
    },
    {
      "cell_type": "code",
      "source": [
        "# now let's move the images of the ck+ dataset into our training set folder\n",
        "target_folder_path = os.path.join(data_path, 'train')\n",
        "for emotion in os.listdir(ckp_path):\n",
        "  if emotion != 'contempt': # for the moment, our model doesn't include analysis for 'contempt' emotions\n",
        "    emotion_image_path = os.path.join(ckp_path, emotion)\n",
        "    for image in os.listdir(emotion_image_path):\n",
        "      image_path = os.path.join(emotion_image_path, image)\n",
        "      shutil.move(image_path, os.path.join(target_folder_path, emotion))"
      ],
      "metadata": {
        "id": "7E_6M9iZY_Fr"
      },
      "execution_count": 14,
      "outputs": []
    }
  ]
}