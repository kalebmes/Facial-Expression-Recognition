{
  "nbformat": 4,
  "nbformat_minor": 0,
  "metadata": {
    "colab": {
      "name": "moving affectnet images.ipynb",
      "provenance": [],
      "authorship_tag": "ABX9TyOLyJ/8dhIZn55sPWaJ28bw",
      "include_colab_link": true
    },
    "kernelspec": {
      "name": "python3",
      "display_name": "Python 3"
    },
    "language_info": {
      "name": "python"
    }
  },
  "cells": [
    {
      "cell_type": "markdown",
      "metadata": {
        "id": "view-in-github",
        "colab_type": "text"
      },
      "source": [
        "<a href=\"https://colab.research.google.com/github/kalebmes/Facial-Expression-Recognition/blob/main/Data%20Preprocessing/moving_affectnet_images.ipynb\" target=\"_parent\"><img src=\"https://colab.research.google.com/assets/colab-badge.svg\" alt=\"Open In Colab\"/></a>"
      ]
    },
    {
      "cell_type": "code",
      "execution_count": 26,
      "metadata": {
        "colab": {
          "base_uri": "https://localhost:8080/"
        },
        "id": "9fQInBIyT1UQ",
        "outputId": "f99a34ca-49bd-4681-ea96-fb30a4b4367b"
      },
      "outputs": [
        {
          "output_type": "stream",
          "name": "stdout",
          "text": [
            "Drive already mounted at /content/drive; to attempt to forcibly remount, call drive.mount(\"/content/drive\", force_remount=True).\n"
          ]
        }
      ],
      "source": [
        "#mount your drive first - you can do it once\n",
        "from google.colab import drive\n",
        "drive.mount('/content/drive')"
      ]
    },
    {
      "cell_type": "code",
      "source": [
        "#importing necessary modules\n",
        "import os\n",
        "import shutil\n",
        "import pandas as pd"
      ],
      "metadata": {
        "id": "9ViMJjkbT5my"
      },
      "execution_count": 27,
      "outputs": []
    },
    {
      "cell_type": "code",
      "source": [
        "# let's get the path of each data files\n",
        "dataset_path = '/content/drive/MyDrive/datasets'\n",
        "affectnet_path = os.path.join(dataset_path, 'affectnet')\n",
        "correct_label_csv_path = os.path.join(affectnet_path, 'labels.csv')\n",
        "target_folder_path = os.path.join(dataset_path, 'train')"
      ],
      "metadata": {
        "id": "fG5-uvD4UArZ"
      },
      "execution_count": 28,
      "outputs": []
    },
    {
      "cell_type": "code",
      "source": [
        "# this affectnet dataset, although it has high quality, the one we obtained on kaggle is not clean. \n",
        "# it contains several misclassified labels. Hence, we are making use of a helper csv file which \n",
        "# classifies the emotions correctly\n",
        "corr_labels = pd.read_csv(correct_label_csv_path)\n",
        "corr_labels"
      ],
      "metadata": {
        "colab": {
          "base_uri": "https://localhost:8080/",
          "height": 424
        },
        "id": "eVik-JpOUd8W",
        "outputId": "35a66964-da84-42be-efc6-a1e14866e9f8"
      },
      "execution_count": 29,
      "outputs": [
        {
          "output_type": "execute_result",
          "data": {
            "text/plain": [
              "                             pth     label\n",
              "0         anger/image0000006.jpg  surprise\n",
              "1         anger/image0000007.jpg     anger\n",
              "2         anger/image0000012.jpg     anger\n",
              "3         anger/image0000035.jpg      fear\n",
              "4         anger/image0000060.jpg     anger\n",
              "...                          ...       ...\n",
              "30997  surprise/image0034961.jpg  surprise\n",
              "30998  surprise/image0034966.jpg  surprise\n",
              "30999  surprise/image0034973.jpg   neutral\n",
              "31000  surprise/image0034977.jpg  surprise\n",
              "31001  surprise/image0042075.jpg   disgust\n",
              "\n",
              "[31002 rows x 2 columns]"
            ],
            "text/html": [
              "\n",
              "  <div id=\"df-3e63e526-257d-472f-a710-332a133b18ed\">\n",
              "    <div class=\"colab-df-container\">\n",
              "      <div>\n",
              "<style scoped>\n",
              "    .dataframe tbody tr th:only-of-type {\n",
              "        vertical-align: middle;\n",
              "    }\n",
              "\n",
              "    .dataframe tbody tr th {\n",
              "        vertical-align: top;\n",
              "    }\n",
              "\n",
              "    .dataframe thead th {\n",
              "        text-align: right;\n",
              "    }\n",
              "</style>\n",
              "<table border=\"1\" class=\"dataframe\">\n",
              "  <thead>\n",
              "    <tr style=\"text-align: right;\">\n",
              "      <th></th>\n",
              "      <th>pth</th>\n",
              "      <th>label</th>\n",
              "    </tr>\n",
              "  </thead>\n",
              "  <tbody>\n",
              "    <tr>\n",
              "      <th>0</th>\n",
              "      <td>anger/image0000006.jpg</td>\n",
              "      <td>surprise</td>\n",
              "    </tr>\n",
              "    <tr>\n",
              "      <th>1</th>\n",
              "      <td>anger/image0000007.jpg</td>\n",
              "      <td>anger</td>\n",
              "    </tr>\n",
              "    <tr>\n",
              "      <th>2</th>\n",
              "      <td>anger/image0000012.jpg</td>\n",
              "      <td>anger</td>\n",
              "    </tr>\n",
              "    <tr>\n",
              "      <th>3</th>\n",
              "      <td>anger/image0000035.jpg</td>\n",
              "      <td>fear</td>\n",
              "    </tr>\n",
              "    <tr>\n",
              "      <th>4</th>\n",
              "      <td>anger/image0000060.jpg</td>\n",
              "      <td>anger</td>\n",
              "    </tr>\n",
              "    <tr>\n",
              "      <th>...</th>\n",
              "      <td>...</td>\n",
              "      <td>...</td>\n",
              "    </tr>\n",
              "    <tr>\n",
              "      <th>30997</th>\n",
              "      <td>surprise/image0034961.jpg</td>\n",
              "      <td>surprise</td>\n",
              "    </tr>\n",
              "    <tr>\n",
              "      <th>30998</th>\n",
              "      <td>surprise/image0034966.jpg</td>\n",
              "      <td>surprise</td>\n",
              "    </tr>\n",
              "    <tr>\n",
              "      <th>30999</th>\n",
              "      <td>surprise/image0034973.jpg</td>\n",
              "      <td>neutral</td>\n",
              "    </tr>\n",
              "    <tr>\n",
              "      <th>31000</th>\n",
              "      <td>surprise/image0034977.jpg</td>\n",
              "      <td>surprise</td>\n",
              "    </tr>\n",
              "    <tr>\n",
              "      <th>31001</th>\n",
              "      <td>surprise/image0042075.jpg</td>\n",
              "      <td>disgust</td>\n",
              "    </tr>\n",
              "  </tbody>\n",
              "</table>\n",
              "<p>31002 rows × 2 columns</p>\n",
              "</div>\n",
              "      <button class=\"colab-df-convert\" onclick=\"convertToInteractive('df-3e63e526-257d-472f-a710-332a133b18ed')\"\n",
              "              title=\"Convert this dataframe to an interactive table.\"\n",
              "              style=\"display:none;\">\n",
              "        \n",
              "  <svg xmlns=\"http://www.w3.org/2000/svg\" height=\"24px\"viewBox=\"0 0 24 24\"\n",
              "       width=\"24px\">\n",
              "    <path d=\"M0 0h24v24H0V0z\" fill=\"none\"/>\n",
              "    <path d=\"M18.56 5.44l.94 2.06.94-2.06 2.06-.94-2.06-.94-.94-2.06-.94 2.06-2.06.94zm-11 1L8.5 8.5l.94-2.06 2.06-.94-2.06-.94L8.5 2.5l-.94 2.06-2.06.94zm10 10l.94 2.06.94-2.06 2.06-.94-2.06-.94-.94-2.06-.94 2.06-2.06.94z\"/><path d=\"M17.41 7.96l-1.37-1.37c-.4-.4-.92-.59-1.43-.59-.52 0-1.04.2-1.43.59L10.3 9.45l-7.72 7.72c-.78.78-.78 2.05 0 2.83L4 21.41c.39.39.9.59 1.41.59.51 0 1.02-.2 1.41-.59l7.78-7.78 2.81-2.81c.8-.78.8-2.07 0-2.86zM5.41 20L4 18.59l7.72-7.72 1.47 1.35L5.41 20z\"/>\n",
              "  </svg>\n",
              "      </button>\n",
              "      \n",
              "  <style>\n",
              "    .colab-df-container {\n",
              "      display:flex;\n",
              "      flex-wrap:wrap;\n",
              "      gap: 12px;\n",
              "    }\n",
              "\n",
              "    .colab-df-convert {\n",
              "      background-color: #E8F0FE;\n",
              "      border: none;\n",
              "      border-radius: 50%;\n",
              "      cursor: pointer;\n",
              "      display: none;\n",
              "      fill: #1967D2;\n",
              "      height: 32px;\n",
              "      padding: 0 0 0 0;\n",
              "      width: 32px;\n",
              "    }\n",
              "\n",
              "    .colab-df-convert:hover {\n",
              "      background-color: #E2EBFA;\n",
              "      box-shadow: 0px 1px 2px rgba(60, 64, 67, 0.3), 0px 1px 3px 1px rgba(60, 64, 67, 0.15);\n",
              "      fill: #174EA6;\n",
              "    }\n",
              "\n",
              "    [theme=dark] .colab-df-convert {\n",
              "      background-color: #3B4455;\n",
              "      fill: #D2E3FC;\n",
              "    }\n",
              "\n",
              "    [theme=dark] .colab-df-convert:hover {\n",
              "      background-color: #434B5C;\n",
              "      box-shadow: 0px 1px 3px 1px rgba(0, 0, 0, 0.15);\n",
              "      filter: drop-shadow(0px 1px 2px rgba(0, 0, 0, 0.3));\n",
              "      fill: #FFFFFF;\n",
              "    }\n",
              "  </style>\n",
              "\n",
              "      <script>\n",
              "        const buttonEl =\n",
              "          document.querySelector('#df-3e63e526-257d-472f-a710-332a133b18ed button.colab-df-convert');\n",
              "        buttonEl.style.display =\n",
              "          google.colab.kernel.accessAllowed ? 'block' : 'none';\n",
              "\n",
              "        async function convertToInteractive(key) {\n",
              "          const element = document.querySelector('#df-3e63e526-257d-472f-a710-332a133b18ed');\n",
              "          const dataTable =\n",
              "            await google.colab.kernel.invokeFunction('convertToInteractive',\n",
              "                                                     [key], {});\n",
              "          if (!dataTable) return;\n",
              "\n",
              "          const docLinkHtml = 'Like what you see? Visit the ' +\n",
              "            '<a target=\"_blank\" href=https://colab.research.google.com/notebooks/data_table.ipynb>data table notebook</a>'\n",
              "            + ' to learn more about interactive tables.';\n",
              "          element.innerHTML = '';\n",
              "          dataTable['output_type'] = 'display_data';\n",
              "          await google.colab.output.renderOutput(dataTable, element);\n",
              "          const docLink = document.createElement('div');\n",
              "          docLink.innerHTML = docLinkHtml;\n",
              "          element.appendChild(docLink);\n",
              "        }\n",
              "      </script>\n",
              "    </div>\n",
              "  </div>\n",
              "  "
            ]
          },
          "metadata": {},
          "execution_count": 29
        }
      ]
    },
    {
      "cell_type": "code",
      "source": [
        "# now let's iterate into this train.csv\n",
        "for ind, data in corr_labels.iterrows():\n",
        "  image_path = os.path.join(affectnet_path, data['pth'])\n",
        "  destination = os.path.join(target_folder_path, data['label'])\n",
        "  if data['pth'].split('/')[0] != 'contempt' and data['label'] != 'contempt':\n",
        "    if not os.path.exists(destination):\n",
        "      shutil.move(image_path, destination)\n",
        "  if ind % 5000 == 0:\n",
        "    print(f'Moved {ind} images from {affectnet_path} to {target_folder_path}')\n",
        "print(f'Finished moving {ind} images!')"
      ],
      "metadata": {
        "colab": {
          "base_uri": "https://localhost:8080/"
        },
        "id": "5kRpDDCPU5DA",
        "outputId": "aae7c6e3-77ea-444f-a9d6-6c3ac9b1a85f"
      },
      "execution_count": 30,
      "outputs": [
        {
          "output_type": "stream",
          "name": "stdout",
          "text": [
            "Moved 0 images from /content/drive/MyDrive/datasets/affectnet to /content/drive/MyDrive/datasets/train\n",
            "Moved 5000 images from /content/drive/MyDrive/datasets/affectnet to /content/drive/MyDrive/datasets/train\n",
            "Moved 10000 images from /content/drive/MyDrive/datasets/affectnet to /content/drive/MyDrive/datasets/train\n",
            "Moved 15000 images from /content/drive/MyDrive/datasets/affectnet to /content/drive/MyDrive/datasets/train\n",
            "Moved 20000 images from /content/drive/MyDrive/datasets/affectnet to /content/drive/MyDrive/datasets/train\n",
            "Moved 25000 images from /content/drive/MyDrive/datasets/affectnet to /content/drive/MyDrive/datasets/train\n",
            "Moved 30000 images from /content/drive/MyDrive/datasets/affectnet to /content/drive/MyDrive/datasets/train\n",
            "Finished moving 31001 images!\n"
          ]
        }
      ]
    }
  ]
}